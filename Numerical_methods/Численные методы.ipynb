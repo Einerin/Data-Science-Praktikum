{
 "cells": [
  {
   "cell_type": "markdown",
   "metadata": {},
   "source": [
    "Сервис по продаже автомобилей с пробегом «Не бит, не крашен» разрабатывает приложение для привлечения новых клиентов. В нём можно быстро узнать рыночную стоимость своего автомобиля. В вашем распоряжении исторические данные: технические характеристики, комплектации и цены автомобилей. Вам нужно построить модель для определения стоимости. \n",
    "\n",
    "Заказчику важны:\n",
    "\n",
    "- качество предсказания;\n",
    "- скорость предсказания;\n",
    "- время обучения."
   ]
  },
  {
   "cell_type": "markdown",
   "metadata": {},
   "source": [
    "# 1. Подготовка данных"
   ]
  },
  {
   "cell_type": "code",
   "execution_count": 1,
   "metadata": {},
   "outputs": [],
   "source": [
    "import pandas as pd\n",
    "import numpy as np\n",
    "from sklearn.model_selection import train_test_split\n",
    "from sklearn.metrics import mean_squared_error as RMSE\n",
    "from sklearn.linear_model import LinearRegression\n",
    "from sklearn.ensemble import RandomForestRegressor\n",
    "from sklearn.neighbors import KNeighborsRegressor\n",
    "from catboost import CatBoostRegressor\n",
    "import lightgbm as lgb\n",
    "import time\n",
    "import warnings\n",
    "from sklearn.preprocessing import StandardScaler\n",
    "from sklearn.model_selection import cross_val_score\n",
    "from sklearn.metrics import make_scorer\n",
    "from sklearn.model_selection import GridSearchCV"
   ]
  },
  {
   "cell_type": "code",
   "execution_count": 2,
   "metadata": {},
   "outputs": [],
   "source": [
    "df = pd.read_csv('/datasets/autos.csv')"
   ]
  },
  {
   "cell_type": "code",
   "execution_count": 3,
   "metadata": {},
   "outputs": [
    {
     "name": "stdout",
     "output_type": "stream",
     "text": [
      "<class 'pandas.core.frame.DataFrame'>\n",
      "RangeIndex: 354369 entries, 0 to 354368\n",
      "Data columns (total 16 columns):\n",
      "DateCrawled          354369 non-null object\n",
      "Price                354369 non-null int64\n",
      "VehicleType          316879 non-null object\n",
      "RegistrationYear     354369 non-null int64\n",
      "Gearbox              334536 non-null object\n",
      "Power                354369 non-null int64\n",
      "Model                334664 non-null object\n",
      "Kilometer            354369 non-null int64\n",
      "RegistrationMonth    354369 non-null int64\n",
      "FuelType             321474 non-null object\n",
      "Brand                354369 non-null object\n",
      "NotRepaired          283215 non-null object\n",
      "DateCreated          354369 non-null object\n",
      "NumberOfPictures     354369 non-null int64\n",
      "PostalCode           354369 non-null int64\n",
      "LastSeen             354369 non-null object\n",
      "dtypes: int64(7), object(9)\n",
      "memory usage: 43.3+ MB\n"
     ]
    }
   ],
   "source": [
    "df.info()"
   ]
  },
  {
   "cell_type": "code",
   "execution_count": 4,
   "metadata": {},
   "outputs": [
    {
     "data": {
      "text/html": [
       "<div>\n",
       "<style scoped>\n",
       "    .dataframe tbody tr th:only-of-type {\n",
       "        vertical-align: middle;\n",
       "    }\n",
       "\n",
       "    .dataframe tbody tr th {\n",
       "        vertical-align: top;\n",
       "    }\n",
       "\n",
       "    .dataframe thead th {\n",
       "        text-align: right;\n",
       "    }\n",
       "</style>\n",
       "<table border=\"1\" class=\"dataframe\">\n",
       "  <thead>\n",
       "    <tr style=\"text-align: right;\">\n",
       "      <th></th>\n",
       "      <th>DateCrawled</th>\n",
       "      <th>Price</th>\n",
       "      <th>VehicleType</th>\n",
       "      <th>RegistrationYear</th>\n",
       "      <th>Gearbox</th>\n",
       "      <th>Power</th>\n",
       "      <th>Model</th>\n",
       "      <th>Kilometer</th>\n",
       "      <th>RegistrationMonth</th>\n",
       "      <th>FuelType</th>\n",
       "      <th>Brand</th>\n",
       "      <th>NotRepaired</th>\n",
       "      <th>DateCreated</th>\n",
       "      <th>NumberOfPictures</th>\n",
       "      <th>PostalCode</th>\n",
       "      <th>LastSeen</th>\n",
       "    </tr>\n",
       "  </thead>\n",
       "  <tbody>\n",
       "    <tr>\n",
       "      <td>0</td>\n",
       "      <td>2016-03-24 11:52:17</td>\n",
       "      <td>480</td>\n",
       "      <td>NaN</td>\n",
       "      <td>1993</td>\n",
       "      <td>manual</td>\n",
       "      <td>0</td>\n",
       "      <td>golf</td>\n",
       "      <td>150000</td>\n",
       "      <td>0</td>\n",
       "      <td>petrol</td>\n",
       "      <td>volkswagen</td>\n",
       "      <td>NaN</td>\n",
       "      <td>2016-03-24 00:00:00</td>\n",
       "      <td>0</td>\n",
       "      <td>70435</td>\n",
       "      <td>2016-04-07 03:16:57</td>\n",
       "    </tr>\n",
       "    <tr>\n",
       "      <td>1</td>\n",
       "      <td>2016-03-24 10:58:45</td>\n",
       "      <td>18300</td>\n",
       "      <td>coupe</td>\n",
       "      <td>2011</td>\n",
       "      <td>manual</td>\n",
       "      <td>190</td>\n",
       "      <td>NaN</td>\n",
       "      <td>125000</td>\n",
       "      <td>5</td>\n",
       "      <td>gasoline</td>\n",
       "      <td>audi</td>\n",
       "      <td>yes</td>\n",
       "      <td>2016-03-24 00:00:00</td>\n",
       "      <td>0</td>\n",
       "      <td>66954</td>\n",
       "      <td>2016-04-07 01:46:50</td>\n",
       "    </tr>\n",
       "    <tr>\n",
       "      <td>2</td>\n",
       "      <td>2016-03-14 12:52:21</td>\n",
       "      <td>9800</td>\n",
       "      <td>suv</td>\n",
       "      <td>2004</td>\n",
       "      <td>auto</td>\n",
       "      <td>163</td>\n",
       "      <td>grand</td>\n",
       "      <td>125000</td>\n",
       "      <td>8</td>\n",
       "      <td>gasoline</td>\n",
       "      <td>jeep</td>\n",
       "      <td>NaN</td>\n",
       "      <td>2016-03-14 00:00:00</td>\n",
       "      <td>0</td>\n",
       "      <td>90480</td>\n",
       "      <td>2016-04-05 12:47:46</td>\n",
       "    </tr>\n",
       "    <tr>\n",
       "      <td>3</td>\n",
       "      <td>2016-03-17 16:54:04</td>\n",
       "      <td>1500</td>\n",
       "      <td>small</td>\n",
       "      <td>2001</td>\n",
       "      <td>manual</td>\n",
       "      <td>75</td>\n",
       "      <td>golf</td>\n",
       "      <td>150000</td>\n",
       "      <td>6</td>\n",
       "      <td>petrol</td>\n",
       "      <td>volkswagen</td>\n",
       "      <td>no</td>\n",
       "      <td>2016-03-17 00:00:00</td>\n",
       "      <td>0</td>\n",
       "      <td>91074</td>\n",
       "      <td>2016-03-17 17:40:17</td>\n",
       "    </tr>\n",
       "    <tr>\n",
       "      <td>4</td>\n",
       "      <td>2016-03-31 17:25:20</td>\n",
       "      <td>3600</td>\n",
       "      <td>small</td>\n",
       "      <td>2008</td>\n",
       "      <td>manual</td>\n",
       "      <td>69</td>\n",
       "      <td>fabia</td>\n",
       "      <td>90000</td>\n",
       "      <td>7</td>\n",
       "      <td>gasoline</td>\n",
       "      <td>skoda</td>\n",
       "      <td>no</td>\n",
       "      <td>2016-03-31 00:00:00</td>\n",
       "      <td>0</td>\n",
       "      <td>60437</td>\n",
       "      <td>2016-04-06 10:17:21</td>\n",
       "    </tr>\n",
       "  </tbody>\n",
       "</table>\n",
       "</div>"
      ],
      "text/plain": [
       "           DateCrawled  Price VehicleType  RegistrationYear Gearbox  Power  \\\n",
       "0  2016-03-24 11:52:17    480         NaN              1993  manual      0   \n",
       "1  2016-03-24 10:58:45  18300       coupe              2011  manual    190   \n",
       "2  2016-03-14 12:52:21   9800         suv              2004    auto    163   \n",
       "3  2016-03-17 16:54:04   1500       small              2001  manual     75   \n",
       "4  2016-03-31 17:25:20   3600       small              2008  manual     69   \n",
       "\n",
       "   Model  Kilometer  RegistrationMonth  FuelType       Brand NotRepaired  \\\n",
       "0   golf     150000                  0    petrol  volkswagen         NaN   \n",
       "1    NaN     125000                  5  gasoline        audi         yes   \n",
       "2  grand     125000                  8  gasoline        jeep         NaN   \n",
       "3   golf     150000                  6    petrol  volkswagen          no   \n",
       "4  fabia      90000                  7  gasoline       skoda          no   \n",
       "\n",
       "           DateCreated  NumberOfPictures  PostalCode             LastSeen  \n",
       "0  2016-03-24 00:00:00                 0       70435  2016-04-07 03:16:57  \n",
       "1  2016-03-24 00:00:00                 0       66954  2016-04-07 01:46:50  \n",
       "2  2016-03-14 00:00:00                 0       90480  2016-04-05 12:47:46  \n",
       "3  2016-03-17 00:00:00                 0       91074  2016-03-17 17:40:17  \n",
       "4  2016-03-31 00:00:00                 0       60437  2016-04-06 10:17:21  "
      ]
     },
     "execution_count": 4,
     "metadata": {},
     "output_type": "execute_result"
    }
   ],
   "source": [
    "df.head()"
   ]
  },
  {
   "cell_type": "markdown",
   "metadata": {},
   "source": [
    "##### Выборка очень большая - около 350.000 автомобилей. Больше всего пропусков наблюдается в признаке NotRepaired. Скорее всего, пропуск означает что машина не была в ремонте, по крайней мере это точно для большинства, а значит можно провести такую замену. Так же присутствует ощутимое количество пропусков в признаках VehicleType и FuelType, и немного меньше в model и Gearbox.\n",
    "##### VehicleType(тип кузова) - очень важный параметр, и совершенно неясно как заполнить пропуски. Можно, например, взять наиболее популярный тип кузова среди данной модели, но это все равно чревато плохими данными. Учитывая размер выборки и количество пропусков, проще будет отказаться от этих данных. Думаю будет лучше так же поступить и с остальными данными, во избежание заведомо большого количества сомнительных вариантов в случае замены, и учитывая размер выборки даже после удаления пропусков"
   ]
  },
  {
   "cell_type": "code",
   "execution_count": 5,
   "metadata": {},
   "outputs": [],
   "source": [
    "df['NotRepaired'] = df['NotRepaired'].fillna('no')"
   ]
  },
  {
   "cell_type": "code",
   "execution_count": 6,
   "metadata": {},
   "outputs": [],
   "source": [
    "df = df.dropna()"
   ]
  },
  {
   "cell_type": "code",
   "execution_count": 7,
   "metadata": {},
   "outputs": [],
   "source": [
    "df_category = df.copy()"
   ]
  },
  {
   "cell_type": "code",
   "execution_count": 8,
   "metadata": {},
   "outputs": [],
   "source": [
    "df = pd.get_dummies(df, columns = ['VehicleType', 'Gearbox', 'Model', 'FuelType', 'Brand', 'NotRepaired'], drop_first = True)"
   ]
  },
  {
   "cell_type": "code",
   "execution_count": 9,
   "metadata": {},
   "outputs": [],
   "source": [
    "df = df.drop_duplicates()"
   ]
  },
  {
   "cell_type": "markdown",
   "metadata": {},
   "source": [
    "##### В выборке присутствуют данные с очень странными ценами. От автомобилей с ценой 0 точно надо избавиться, хотя цена в 100 евро тоже выглядит сомнительно"
   ]
  },
  {
   "cell_type": "code",
   "execution_count": 10,
   "metadata": {},
   "outputs": [
    {
     "data": {
      "text/plain": [
       "(19283, 312)"
      ]
     },
     "execution_count": 10,
     "metadata": {},
     "output_type": "execute_result"
    }
   ],
   "source": [
    "df[df['Price'] < 500].shape"
   ]
  },
  {
   "cell_type": "code",
   "execution_count": 11,
   "metadata": {},
   "outputs": [
    {
     "data": {
      "text/plain": [
       "(5984, 312)"
      ]
     },
     "execution_count": 11,
     "metadata": {},
     "output_type": "execute_result"
    }
   ],
   "source": [
    "df[df['Price'] < 100].shape"
   ]
  },
  {
   "cell_type": "markdown",
   "metadata": {},
   "source": [
    "##### Удалим хотя бы данные где цена меньше 100, в основном это будут нулевые значения от которых точно никакого толку"
   ]
  },
  {
   "cell_type": "code",
   "execution_count": 12,
   "metadata": {},
   "outputs": [],
   "source": [
    "df = df.query('Price > 99')"
   ]
  },
  {
   "cell_type": "code",
   "execution_count": 13,
   "metadata": {},
   "outputs": [
    {
     "name": "stdout",
     "output_type": "stream",
     "text": [
      "<class 'pandas.core.frame.DataFrame'>\n",
      "Int64Index: 278137 entries, 2 to 354368\n",
      "Columns: 312 entries, DateCrawled to NotRepaired_yes\n",
      "dtypes: int64(7), object(3), uint8(302)\n",
      "memory usage: 103.4+ MB\n"
     ]
    }
   ],
   "source": [
    "df.info()"
   ]
  },
  {
   "cell_type": "markdown",
   "metadata": {},
   "source": [
    "##### Согласен, потери велики, не будь выборка такой большой пришлось бы придумать что-нибудь получше. Зато в данном случае выборка все еще велика, и в ней точно нет неверных данных"
   ]
  },
  {
   "cell_type": "markdown",
   "metadata": {},
   "source": [
    "##### Выделим признаки и целевой признак, и разделим на выборки, а так же отбросим признаки, не несущие особого смысла"
   ]
  },
  {
   "cell_type": "code",
   "execution_count": 14,
   "metadata": {},
   "outputs": [],
   "source": [
    "features = df.drop(['Price', 'DateCrawled', 'DateCreated', 'PostalCode', 'LastSeen', 'NumberOfPictures'], axis = 1)\n",
    "target = df['Price']"
   ]
  },
  {
   "cell_type": "code",
   "execution_count": 15,
   "metadata": {},
   "outputs": [],
   "source": [
    "features_train, features_valid, target_train, target_valid = train_test_split(features, target,\n",
    "                                                                              test_size = 0.33, random_state = 123)"
   ]
  },
  {
   "cell_type": "code",
   "execution_count": 16,
   "metadata": {},
   "outputs": [
    {
     "name": "stderr",
     "output_type": "stream",
     "text": [
      "/opt/conda/lib/python3.7/site-packages/pandas/core/indexing.py:494: SettingWithCopyWarning: \n",
      "A value is trying to be set on a copy of a slice from a DataFrame.\n",
      "Try using .loc[row_indexer,col_indexer] = value instead\n",
      "\n",
      "See the caveats in the documentation: http://pandas.pydata.org/pandas-docs/stable/user_guide/indexing.html#returning-a-view-versus-a-copy\n",
      "  self.obj[item] = s\n",
      "/opt/conda/lib/python3.7/site-packages/pandas/core/indexing.py:494: SettingWithCopyWarning: \n",
      "A value is trying to be set on a copy of a slice from a DataFrame.\n",
      "Try using .loc[row_indexer,col_indexer] = value instead\n",
      "\n",
      "See the caveats in the documentation: http://pandas.pydata.org/pandas-docs/stable/user_guide/indexing.html#returning-a-view-versus-a-copy\n",
      "  self.obj[item] = s\n"
     ]
    }
   ],
   "source": [
    "scaler = StandardScaler()\n",
    "numeric = ['RegistrationYear','Power','Kilometer']\n",
    "scaler.fit(features_train.loc[:, numeric])\n",
    "features_train.loc[:, numeric] = scaler.transform(features_train.loc[:, numeric])\n",
    "features_valid.loc[:, numeric] = scaler.transform(features_valid.loc[:, numeric])\n",
    "warnings.filterwarnings('ignore')"
   ]
  },
  {
   "cell_type": "code",
   "execution_count": 17,
   "metadata": {},
   "outputs": [],
   "source": [
    "category = ['VehicleType', 'Gearbox', 'Model', 'FuelType', 'Brand', 'NotRepaired']\n",
    "#features_train.loc[:, category] = features_train.loc[:, category].astype('category')\n",
    "#features_valid.loc[:, category] = features_valid.loc[:, category].astype('category')"
   ]
  },
  {
   "cell_type": "code",
   "execution_count": 18,
   "metadata": {},
   "outputs": [],
   "source": [
    "category_features = df_category.drop(['Price', 'DateCrawled', 'DateCreated', 'PostalCode', 'LastSeen', 'NumberOfPictures'], axis = 1)\n",
    "category_target = df_category['Price']"
   ]
  },
  {
   "cell_type": "code",
   "execution_count": 19,
   "metadata": {},
   "outputs": [],
   "source": [
    "category_features[category] = category_features[category].astype('category')"
   ]
  },
  {
   "cell_type": "code",
   "execution_count": 20,
   "metadata": {},
   "outputs": [],
   "source": [
    "category_features_train, category_features_test, category_target_train, category_target_test = train_test_split(\n",
    "    category_features, category_target, test_size = 0.33, random_state = 123)"
   ]
  },
  {
   "cell_type": "markdown",
   "metadata": {},
   "source": [
    "# 2. Обучение моделей"
   ]
  },
  {
   "cell_type": "markdown",
   "metadata": {},
   "source": [
    "##### Сначала обучим несколько обычных моделей, а позже используем градиентный бустинг и сравним результаты"
   ]
  },
  {
   "cell_type": "markdown",
   "metadata": {},
   "source": [
    "##### Начнем с линейной регрессии"
   ]
  },
  {
   "cell_type": "code",
   "execution_count": 21,
   "metadata": {},
   "outputs": [
    {
     "name": "stdout",
     "output_type": "stream",
     "text": [
      "RMSE 2677.0399208141225\n",
      "Time: 19.464774131774902\n",
      "CPU times: user 14.7 s, sys: 4.81 s, total: 19.5 s\n",
      "Wall time: 19.5 s\n"
     ]
    }
   ],
   "source": [
    "%%time\n",
    "start = time.time()\n",
    "model_LR = LinearRegression()\n",
    "model_LR.fit(features_train, target_train)\n",
    "predictions_LR = model_LR.predict(features_valid)\n",
    "score_LR = RMSE(target_valid, predictions_LR) ** 0.5\n",
    "print('RMSE', score_LR)\n",
    "LR_time = time.time() - start\n",
    "print('Time:', LR_time)"
   ]
  },
  {
   "cell_type": "code",
   "execution_count": 26,
   "metadata": {},
   "outputs": [],
   "source": [
    "model_RFR1 = RandomForestRegressor(max_depth = 10)\n",
    "model_RFR2 = RandomForestRegressor(max_depth = 20, max_features = 'sqrt')\n",
    "model_RFR3 = RandomForestRegressor(n_estimators = 200, max_depth = 20)"
   ]
  },
  {
   "cell_type": "markdown",
   "metadata": {},
   "source": [
    "---"
   ]
  },
  {
   "cell_type": "code",
   "execution_count": 27,
   "metadata": {},
   "outputs": [],
   "source": [
    "def rmse(target, predictions):\n",
    "    return RMSE(target, predictions) ** 0.5"
   ]
  },
  {
   "cell_type": "code",
   "execution_count": 28,
   "metadata": {},
   "outputs": [],
   "source": [
    "scorer = make_scorer(rmse, greater_is_better = False)"
   ]
  },
  {
   "cell_type": "code",
   "execution_count": 29,
   "metadata": {},
   "outputs": [],
   "source": [
    "scores1 = cross_val_score(model_RFR1, features_train, target_train, cv = 5, scoring = scorer)\n",
    "scores2 = cross_val_score(model_RFR2, features_train, target_train, cv = 5, scoring = scorer)\n",
    "scores3 = cross_val_score(model_RFR3, features_train, target_train, cv = 5, scoring = scorer)"
   ]
  },
  {
   "cell_type": "code",
   "execution_count": 30,
   "metadata": {},
   "outputs": [
    {
     "name": "stdout",
     "output_type": "stream",
     "text": [
      "model_RFR1. RMSE: 1872.5997803171776\n",
      "model_RFR2. RMSE: 2028.3182205661456\n",
      "model_RFR3. RMSE: 1583.143022632804\n"
     ]
    }
   ],
   "source": [
    "print('model_RFR1. RMSE:', abs(scores1).mean())\n",
    "print('model_RFR2. RMSE:', abs(scores2).mean())\n",
    "print('model_RFR3. RMSE:', abs(scores3).mean())"
   ]
  },
  {
   "cell_type": "code",
   "execution_count": 41,
   "metadata": {},
   "outputs": [
    {
     "name": "stdout",
     "output_type": "stream",
     "text": [
      "RMSE случайного леса: 1560.7702446910175\n"
     ]
    }
   ],
   "source": [
    "model_RFR3.fit(features_train, target_train)\n",
    "predictions = model_RFR3.predict(features_valid)\n",
    "print('RMSE случайного леса:', RMSE(target_valid, predictions) ** 0.5)"
   ]
  },
  {
   "cell_type": "code",
   "execution_count": 32,
   "metadata": {},
   "outputs": [
    {
     "name": "stdout",
     "output_type": "stream",
     "text": [
      "RMSE: 1617.285455117413\n",
      "Time: 55.75129675865173\n",
      "CPU times: user 55.2 s, sys: 364 ms, total: 55.5 s\n",
      "Wall time: 55.8 s\n"
     ]
    }
   ],
   "source": [
    "%%time\n",
    "start = time.time()\n",
    "model_RFR = RandomForestRegressor()\n",
    "model_RFR.fit(features_train, target_train)\n",
    "predictions_RFR = model_RFR.predict(features_valid)\n",
    "score_RFR = RMSE(target_valid, predictions_RFR) ** 0.5\n",
    "print('RMSE:', score_RFR)\n",
    "end = time.time()\n",
    "RFR_time = end - start\n",
    "print('Time:', RFR_time)"
   ]
  },
  {
   "cell_type": "markdown",
   "metadata": {},
   "source": [
    "##### Воспользуемся градиентным бустингом и библиотекой LightGBM"
   ]
  },
  {
   "cell_type": "code",
   "execution_count": 36,
   "metadata": {},
   "outputs": [],
   "source": [
    "lgb_train = lgb.Dataset(category_features_train, category_target_train)\n",
    "lgb_eval = lgb.Dataset(category_features_test, category_target_test, reference = lgb_train)"
   ]
  },
  {
   "cell_type": "code",
   "execution_count": 37,
   "metadata": {},
   "outputs": [],
   "source": [
    "params = {\n",
    "    'boosting_type': 'gbdt',\n",
    "    'objective': 'regression',\n",
    "    'metric': {'l2', 'l1'},\n",
    "    'num_leaves': 31,\n",
    "}"
   ]
  },
  {
   "cell_type": "code",
   "execution_count": 38,
   "metadata": {},
   "outputs": [
    {
     "name": "stdout",
     "output_type": "stream",
     "text": [
      "[1]\tvalid_0's l1: 3389.14\tvalid_0's l2: 1.8524e+07\n",
      "[2]\tvalid_0's l1: 3131.43\tvalid_0's l2: 1.60078e+07\n",
      "[3]\tvalid_0's l1: 2902.51\tvalid_0's l2: 1.39464e+07\n",
      "[4]\tvalid_0's l1: 2697.68\tvalid_0's l2: 1.22335e+07\n",
      "[5]\tvalid_0's l1: 2517.93\tvalid_0's l2: 1.08232e+07\n",
      "[6]\tvalid_0's l1: 2360.42\tvalid_0's l2: 9.66885e+06\n",
      "[7]\tvalid_0's l1: 2219.95\tvalid_0's l2: 8.70365e+06\n",
      "[8]\tvalid_0's l1: 2094.13\tvalid_0's l2: 7.88819e+06\n",
      "[9]\tvalid_0's l1: 1981.83\tvalid_0's l2: 7.19554e+06\n",
      "[10]\tvalid_0's l1: 1882.6\tvalid_0's l2: 6.61593e+06\n",
      "[11]\tvalid_0's l1: 1793.63\tvalid_0's l2: 6.13462e+06\n",
      "[12]\tvalid_0's l1: 1714.3\tvalid_0's l2: 5.71751e+06\n",
      "[13]\tvalid_0's l1: 1643.82\tvalid_0's l2: 5.36378e+06\n",
      "[14]\tvalid_0's l1: 1581.47\tvalid_0's l2: 5.06313e+06\n",
      "[15]\tvalid_0's l1: 1525.33\tvalid_0's l2: 4.79985e+06\n",
      "[16]\tvalid_0's l1: 1476.67\tvalid_0's l2: 4.58262e+06\n",
      "[17]\tvalid_0's l1: 1434.1\tvalid_0's l2: 4.39498e+06\n",
      "[18]\tvalid_0's l1: 1396.49\tvalid_0's l2: 4.23736e+06\n",
      "[19]\tvalid_0's l1: 1363.07\tvalid_0's l2: 4.09764e+06\n",
      "[20]\tvalid_0's l1: 1333.91\tvalid_0's l2: 3.97758e+06\n",
      "[21]\tvalid_0's l1: 1306.17\tvalid_0's l2: 3.86854e+06\n",
      "[22]\tvalid_0's l1: 1282.37\tvalid_0's l2: 3.77179e+06\n",
      "[23]\tvalid_0's l1: 1260.38\tvalid_0's l2: 3.68882e+06\n",
      "[24]\tvalid_0's l1: 1241.1\tvalid_0's l2: 3.61525e+06\n",
      "[25]\tvalid_0's l1: 1224.22\tvalid_0's l2: 3.55177e+06\n",
      "[26]\tvalid_0's l1: 1210.21\tvalid_0's l2: 3.50029e+06\n",
      "[27]\tvalid_0's l1: 1196.34\tvalid_0's l2: 3.45115e+06\n",
      "[28]\tvalid_0's l1: 1183.46\tvalid_0's l2: 3.40201e+06\n",
      "[29]\tvalid_0's l1: 1172.58\tvalid_0's l2: 3.36055e+06\n",
      "[30]\tvalid_0's l1: 1162.55\tvalid_0's l2: 3.32318e+06\n",
      "[31]\tvalid_0's l1: 1153.37\tvalid_0's l2: 3.29155e+06\n",
      "[32]\tvalid_0's l1: 1144.82\tvalid_0's l2: 3.25888e+06\n",
      "[33]\tvalid_0's l1: 1137.14\tvalid_0's l2: 3.23071e+06\n",
      "[34]\tvalid_0's l1: 1129.98\tvalid_0's l2: 3.20582e+06\n",
      "[35]\tvalid_0's l1: 1123.27\tvalid_0's l2: 3.18274e+06\n",
      "[36]\tvalid_0's l1: 1118.42\tvalid_0's l2: 3.16383e+06\n",
      "[37]\tvalid_0's l1: 1113.9\tvalid_0's l2: 3.14539e+06\n",
      "[38]\tvalid_0's l1: 1108.84\tvalid_0's l2: 3.12897e+06\n",
      "[39]\tvalid_0's l1: 1104.2\tvalid_0's l2: 3.11138e+06\n",
      "[40]\tvalid_0's l1: 1100.35\tvalid_0's l2: 3.09635e+06\n",
      "[41]\tvalid_0's l1: 1097.03\tvalid_0's l2: 3.08333e+06\n",
      "[42]\tvalid_0's l1: 1093.32\tvalid_0's l2: 3.06989e+06\n",
      "[43]\tvalid_0's l1: 1090.42\tvalid_0's l2: 3.05862e+06\n",
      "[44]\tvalid_0's l1: 1087.81\tvalid_0's l2: 3.04801e+06\n",
      "[45]\tvalid_0's l1: 1085.61\tvalid_0's l2: 3.03952e+06\n",
      "[46]\tvalid_0's l1: 1083.06\tvalid_0's l2: 3.02898e+06\n",
      "[47]\tvalid_0's l1: 1080.57\tvalid_0's l2: 3.01881e+06\n",
      "[48]\tvalid_0's l1: 1078.77\tvalid_0's l2: 3.01051e+06\n",
      "[49]\tvalid_0's l1: 1076.75\tvalid_0's l2: 3.00237e+06\n",
      "[50]\tvalid_0's l1: 1074.78\tvalid_0's l2: 2.99493e+06\n",
      "[51]\tvalid_0's l1: 1073.42\tvalid_0's l2: 2.98855e+06\n",
      "[52]\tvalid_0's l1: 1072.03\tvalid_0's l2: 2.98218e+06\n",
      "[53]\tvalid_0's l1: 1070.39\tvalid_0's l2: 2.97458e+06\n",
      "[54]\tvalid_0's l1: 1069.02\tvalid_0's l2: 2.96848e+06\n",
      "[55]\tvalid_0's l1: 1067.78\tvalid_0's l2: 2.96248e+06\n",
      "[56]\tvalid_0's l1: 1066.46\tvalid_0's l2: 2.95615e+06\n",
      "[57]\tvalid_0's l1: 1065.49\tvalid_0's l2: 2.95252e+06\n",
      "[58]\tvalid_0's l1: 1064.35\tvalid_0's l2: 2.94591e+06\n",
      "[59]\tvalid_0's l1: 1063.54\tvalid_0's l2: 2.94088e+06\n",
      "[60]\tvalid_0's l1: 1062.1\tvalid_0's l2: 2.93608e+06\n",
      "[61]\tvalid_0's l1: 1061.15\tvalid_0's l2: 2.9318e+06\n",
      "[62]\tvalid_0's l1: 1059.69\tvalid_0's l2: 2.92577e+06\n",
      "[63]\tvalid_0's l1: 1058.66\tvalid_0's l2: 2.92022e+06\n",
      "[64]\tvalid_0's l1: 1057.61\tvalid_0's l2: 2.91427e+06\n",
      "[65]\tvalid_0's l1: 1057.05\tvalid_0's l2: 2.91208e+06\n",
      "[66]\tvalid_0's l1: 1055.95\tvalid_0's l2: 2.90782e+06\n",
      "[67]\tvalid_0's l1: 1055.47\tvalid_0's l2: 2.90475e+06\n",
      "[68]\tvalid_0's l1: 1054.47\tvalid_0's l2: 2.90063e+06\n",
      "[69]\tvalid_0's l1: 1053.72\tvalid_0's l2: 2.89621e+06\n",
      "[70]\tvalid_0's l1: 1053.23\tvalid_0's l2: 2.89421e+06\n",
      "[71]\tvalid_0's l1: 1052.59\tvalid_0's l2: 2.8915e+06\n",
      "[72]\tvalid_0's l1: 1051.99\tvalid_0's l2: 2.88873e+06\n",
      "[73]\tvalid_0's l1: 1051.39\tvalid_0's l2: 2.88538e+06\n",
      "[74]\tvalid_0's l1: 1050.58\tvalid_0's l2: 2.87986e+06\n",
      "[75]\tvalid_0's l1: 1050.22\tvalid_0's l2: 2.87793e+06\n",
      "[76]\tvalid_0's l1: 1049.68\tvalid_0's l2: 2.87423e+06\n",
      "[77]\tvalid_0's l1: 1048.57\tvalid_0's l2: 2.86963e+06\n",
      "[78]\tvalid_0's l1: 1047.98\tvalid_0's l2: 2.86615e+06\n",
      "[79]\tvalid_0's l1: 1047.42\tvalid_0's l2: 2.86325e+06\n",
      "[80]\tvalid_0's l1: 1046.24\tvalid_0's l2: 2.85898e+06\n",
      "[81]\tvalid_0's l1: 1045.84\tvalid_0's l2: 2.8568e+06\n",
      "[82]\tvalid_0's l1: 1045.39\tvalid_0's l2: 2.85431e+06\n",
      "[83]\tvalid_0's l1: 1045.31\tvalid_0's l2: 2.85387e+06\n",
      "[84]\tvalid_0's l1: 1044.73\tvalid_0's l2: 2.85173e+06\n",
      "[85]\tvalid_0's l1: 1044.15\tvalid_0's l2: 2.84856e+06\n",
      "[86]\tvalid_0's l1: 1043.79\tvalid_0's l2: 2.84705e+06\n",
      "[87]\tvalid_0's l1: 1043.26\tvalid_0's l2: 2.84489e+06\n",
      "[88]\tvalid_0's l1: 1042.74\tvalid_0's l2: 2.84191e+06\n",
      "[89]\tvalid_0's l1: 1042.31\tvalid_0's l2: 2.83999e+06\n",
      "[90]\tvalid_0's l1: 1041.89\tvalid_0's l2: 2.83822e+06\n",
      "[91]\tvalid_0's l1: 1041.43\tvalid_0's l2: 2.83572e+06\n",
      "[92]\tvalid_0's l1: 1040.97\tvalid_0's l2: 2.83378e+06\n",
      "[93]\tvalid_0's l1: 1040.14\tvalid_0's l2: 2.83005e+06\n",
      "[94]\tvalid_0's l1: 1039.67\tvalid_0's l2: 2.82787e+06\n",
      "[95]\tvalid_0's l1: 1039.63\tvalid_0's l2: 2.82781e+06\n",
      "[96]\tvalid_0's l1: 1039.1\tvalid_0's l2: 2.82534e+06\n",
      "[97]\tvalid_0's l1: 1038.7\tvalid_0's l2: 2.82275e+06\n",
      "[98]\tvalid_0's l1: 1038.41\tvalid_0's l2: 2.82056e+06\n",
      "[99]\tvalid_0's l1: 1038.01\tvalid_0's l2: 2.81828e+06\n",
      "[100]\tvalid_0's l1: 1037.66\tvalid_0's l2: 2.8168e+06\n",
      "CPU times: user 17.4 s, sys: 128 ms, total: 17.5 s\n",
      "Wall time: 17.7 s\n"
     ]
    }
   ],
   "source": [
    "%%time\n",
    "start = time.time()\n",
    "gbm = lgb.train(params, lgb_train, valid_sets = lgb_eval)\n",
    "LGB_time = time.time() - start"
   ]
  },
  {
   "cell_type": "code",
   "execution_count": 39,
   "metadata": {},
   "outputs": [
    {
     "name": "stdout",
     "output_type": "stream",
     "text": [
      "CPU times: user 1.34 s, sys: 4.04 ms, total: 1.35 s\n",
      "Wall time: 1.3 s\n"
     ]
    }
   ],
   "source": [
    "%%time\n",
    "start = time.time()\n",
    "predictions_LGB = gbm.predict(category_features_test, num_iteration = gbm.best_iteration)\n",
    "LGB2_time = time.time() - start"
   ]
  },
  {
   "cell_type": "code",
   "execution_count": 40,
   "metadata": {},
   "outputs": [
    {
     "name": "stdout",
     "output_type": "stream",
     "text": [
      "RMSE: 1678.331131445649\n",
      "Time: 18.99661159515381\n"
     ]
    }
   ],
   "source": [
    "print('RMSE:', RMSE(category_target_test, predictions_LGB) ** 0.5)\n",
    "print('Time:', LGB_time + LGB2_time)"
   ]
  },
  {
   "cell_type": "markdown",
   "metadata": {},
   "source": [
    "# 3. Анализ моделей"
   ]
  },
  {
   "cell_type": "markdown",
   "metadata": {},
   "source": [
    "##### LightGBM показала себя очень неплохо, с временем работы чуть больше минуты, а итоговый RMSE - 1643"
   ]
  },
  {
   "cell_type": "markdown",
   "metadata": {},
   "source": [
    "<div class=\"alert alert-block alert-warning\">\n",
    "<b>Модель случайного леса так же показала хорошие результаты, даже без подгонки параметров</b> \n",
    "</div>"
   ]
  }
 ],
 "metadata": {
  "kernelspec": {
   "display_name": "Python 3",
   "language": "python",
   "name": "python3"
  },
  "language_info": {
   "codemirror_mode": {
    "name": "ipython",
    "version": 3
   },
   "file_extension": ".py",
   "mimetype": "text/x-python",
   "name": "python",
   "nbconvert_exporter": "python",
   "pygments_lexer": "ipython3",
   "version": "3.8.5"
  },
  "toc": {
   "base_numbering": 1,
   "nav_menu": {},
   "number_sections": true,
   "sideBar": true,
   "skip_h1_title": false,
   "title_cell": "Table of Contents",
   "title_sidebar": "Contents",
   "toc_cell": false,
   "toc_position": {},
   "toc_section_display": true,
   "toc_window_display": false
  }
 },
 "nbformat": 4,
 "nbformat_minor": 2
}
