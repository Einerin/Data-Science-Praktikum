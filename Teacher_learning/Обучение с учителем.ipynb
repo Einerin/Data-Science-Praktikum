{
 "cells": [
  {
   "cell_type": "markdown",
   "metadata": {},
   "source": [
    "# Отток клиентов"
   ]
  },
  {
   "cell_type": "markdown",
   "metadata": {},
   "source": [
    "Из «Бета-Банка» стали уходить клиенты. Каждый месяц. Немного, но заметно. Банковские маркетологи посчитали: сохранять текущих клиентов дешевле, чем привлекать новых.\n",
    "\n",
    "Нужно спрогнозировать, уйдёт клиент из банка в ближайшее время или нет. Вам предоставлены исторические данные о поведении клиентов и расторжении договоров с банком. \n",
    "\n",
    "Постройте модель с предельно большим значением *F1*-меры. Чтобы сдать проект успешно, нужно довести метрику до 0.59. Проверьте *F1*-меру на тестовой выборке самостоятельно.\n",
    "\n",
    "Дополнительно измеряйте *AUC-ROC*, сравнивайте её значение с *F1*-мерой.\n",
    "\n",
    "Источник данных: [https://www.kaggle.com/barelydedicated/bank-customer-churn-modeling](https://www.kaggle.com/barelydedicated/bank-customer-churn-modeling)"
   ]
  },
  {
   "cell_type": "markdown",
   "metadata": {},
   "source": [
    "# 1. Подготовка данных"
   ]
  },
  {
   "cell_type": "code",
   "execution_count": 1,
   "metadata": {},
   "outputs": [],
   "source": [
    "import pandas as pd\n",
    "from sklearn.model_selection import train_test_split\n",
    "from sklearn.preprocessing import StandardScaler\n",
    "from sklearn.tree import DecisionTreeClassifier\n",
    "from sklearn.ensemble import RandomForestClassifier\n",
    "from sklearn.linear_model import LogisticRegression\n",
    "from sklearn.metrics import accuracy_score\n",
    "from sklearn.metrics import confusion_matrix\n",
    "from sklearn.metrics import recall_score\n",
    "from sklearn.metrics import precision_score\n",
    "from sklearn.metrics import f1_score\n",
    "from sklearn.metrics import roc_auc_score\n",
    "from sklearn.metrics import roc_curve\n",
    "from sklearn.utils import shuffle"
   ]
  },
  {
   "cell_type": "code",
   "execution_count": 2,
   "metadata": {},
   "outputs": [],
   "source": [
    "df = pd.read_csv('/datasets/Churn.csv')"
   ]
  },
  {
   "cell_type": "code",
   "execution_count": 3,
   "metadata": {},
   "outputs": [
    {
     "data": {
      "text/html": [
       "<div>\n",
       "<style scoped>\n",
       "    .dataframe tbody tr th:only-of-type {\n",
       "        vertical-align: middle;\n",
       "    }\n",
       "\n",
       "    .dataframe tbody tr th {\n",
       "        vertical-align: top;\n",
       "    }\n",
       "\n",
       "    .dataframe thead th {\n",
       "        text-align: right;\n",
       "    }\n",
       "</style>\n",
       "<table border=\"1\" class=\"dataframe\">\n",
       "  <thead>\n",
       "    <tr style=\"text-align: right;\">\n",
       "      <th></th>\n",
       "      <th>RowNumber</th>\n",
       "      <th>CustomerId</th>\n",
       "      <th>Surname</th>\n",
       "      <th>CreditScore</th>\n",
       "      <th>Geography</th>\n",
       "      <th>Gender</th>\n",
       "      <th>Age</th>\n",
       "      <th>Tenure</th>\n",
       "      <th>Balance</th>\n",
       "      <th>NumOfProducts</th>\n",
       "      <th>HasCrCard</th>\n",
       "      <th>IsActiveMember</th>\n",
       "      <th>EstimatedSalary</th>\n",
       "      <th>Exited</th>\n",
       "    </tr>\n",
       "  </thead>\n",
       "  <tbody>\n",
       "    <tr>\n",
       "      <td>0</td>\n",
       "      <td>1</td>\n",
       "      <td>15634602</td>\n",
       "      <td>Hargrave</td>\n",
       "      <td>619</td>\n",
       "      <td>France</td>\n",
       "      <td>Female</td>\n",
       "      <td>42</td>\n",
       "      <td>2.0</td>\n",
       "      <td>0.00</td>\n",
       "      <td>1</td>\n",
       "      <td>1</td>\n",
       "      <td>1</td>\n",
       "      <td>101348.88</td>\n",
       "      <td>1</td>\n",
       "    </tr>\n",
       "    <tr>\n",
       "      <td>1</td>\n",
       "      <td>2</td>\n",
       "      <td>15647311</td>\n",
       "      <td>Hill</td>\n",
       "      <td>608</td>\n",
       "      <td>Spain</td>\n",
       "      <td>Female</td>\n",
       "      <td>41</td>\n",
       "      <td>1.0</td>\n",
       "      <td>83807.86</td>\n",
       "      <td>1</td>\n",
       "      <td>0</td>\n",
       "      <td>1</td>\n",
       "      <td>112542.58</td>\n",
       "      <td>0</td>\n",
       "    </tr>\n",
       "    <tr>\n",
       "      <td>2</td>\n",
       "      <td>3</td>\n",
       "      <td>15619304</td>\n",
       "      <td>Onio</td>\n",
       "      <td>502</td>\n",
       "      <td>France</td>\n",
       "      <td>Female</td>\n",
       "      <td>42</td>\n",
       "      <td>8.0</td>\n",
       "      <td>159660.80</td>\n",
       "      <td>3</td>\n",
       "      <td>1</td>\n",
       "      <td>0</td>\n",
       "      <td>113931.57</td>\n",
       "      <td>1</td>\n",
       "    </tr>\n",
       "    <tr>\n",
       "      <td>3</td>\n",
       "      <td>4</td>\n",
       "      <td>15701354</td>\n",
       "      <td>Boni</td>\n",
       "      <td>699</td>\n",
       "      <td>France</td>\n",
       "      <td>Female</td>\n",
       "      <td>39</td>\n",
       "      <td>1.0</td>\n",
       "      <td>0.00</td>\n",
       "      <td>2</td>\n",
       "      <td>0</td>\n",
       "      <td>0</td>\n",
       "      <td>93826.63</td>\n",
       "      <td>0</td>\n",
       "    </tr>\n",
       "    <tr>\n",
       "      <td>4</td>\n",
       "      <td>5</td>\n",
       "      <td>15737888</td>\n",
       "      <td>Mitchell</td>\n",
       "      <td>850</td>\n",
       "      <td>Spain</td>\n",
       "      <td>Female</td>\n",
       "      <td>43</td>\n",
       "      <td>2.0</td>\n",
       "      <td>125510.82</td>\n",
       "      <td>1</td>\n",
       "      <td>1</td>\n",
       "      <td>1</td>\n",
       "      <td>79084.10</td>\n",
       "      <td>0</td>\n",
       "    </tr>\n",
       "  </tbody>\n",
       "</table>\n",
       "</div>"
      ],
      "text/plain": [
       "   RowNumber  CustomerId   Surname  CreditScore Geography  Gender  Age  \\\n",
       "0          1    15634602  Hargrave          619    France  Female   42   \n",
       "1          2    15647311      Hill          608     Spain  Female   41   \n",
       "2          3    15619304      Onio          502    France  Female   42   \n",
       "3          4    15701354      Boni          699    France  Female   39   \n",
       "4          5    15737888  Mitchell          850     Spain  Female   43   \n",
       "\n",
       "   Tenure    Balance  NumOfProducts  HasCrCard  IsActiveMember  \\\n",
       "0     2.0       0.00              1          1               1   \n",
       "1     1.0   83807.86              1          0               1   \n",
       "2     8.0  159660.80              3          1               0   \n",
       "3     1.0       0.00              2          0               0   \n",
       "4     2.0  125510.82              1          1               1   \n",
       "\n",
       "   EstimatedSalary  Exited  \n",
       "0        101348.88       1  \n",
       "1        112542.58       0  \n",
       "2        113931.57       1  \n",
       "3         93826.63       0  \n",
       "4         79084.10       0  "
      ]
     },
     "execution_count": 3,
     "metadata": {},
     "output_type": "execute_result"
    }
   ],
   "source": [
    "df.head()"
   ]
  },
  {
   "cell_type": "code",
   "execution_count": 4,
   "metadata": {},
   "outputs": [
    {
     "name": "stdout",
     "output_type": "stream",
     "text": [
      "<class 'pandas.core.frame.DataFrame'>\n",
      "RangeIndex: 10000 entries, 0 to 9999\n",
      "Data columns (total 14 columns):\n",
      "RowNumber          10000 non-null int64\n",
      "CustomerId         10000 non-null int64\n",
      "Surname            10000 non-null object\n",
      "CreditScore        10000 non-null int64\n",
      "Geography          10000 non-null object\n",
      "Gender             10000 non-null object\n",
      "Age                10000 non-null int64\n",
      "Tenure             9091 non-null float64\n",
      "Balance            10000 non-null float64\n",
      "NumOfProducts      10000 non-null int64\n",
      "HasCrCard          10000 non-null int64\n",
      "IsActiveMember     10000 non-null int64\n",
      "EstimatedSalary    10000 non-null float64\n",
      "Exited             10000 non-null int64\n",
      "dtypes: float64(3), int64(8), object(3)\n",
      "memory usage: 1.1+ MB\n"
     ]
    }
   ],
   "source": [
    "df.info()"
   ]
  },
  {
   "cell_type": "markdown",
   "metadata": {},
   "source": [
    "##### Есть пропуски в столбце Tenure, посмотрим на них поближе"
   ]
  },
  {
   "cell_type": "markdown",
   "metadata": {},
   "source": [
    "##### Заменим пропуски медианным значением. Тем более что есть клиенты, где в столбце Tenure указан 0, а значит предположить что вместо пропусков в данном случае подразумевается так же 0, будет неразумно"
   ]
  },
  {
   "cell_type": "code",
   "execution_count": 5,
   "metadata": {},
   "outputs": [],
   "source": [
    "df.loc[df['Tenure'].isna(), 'Tenure'] = df.query('~Tenure.isna()')['Tenure'].median()"
   ]
  },
  {
   "cell_type": "markdown",
   "metadata": {},
   "source": [
    "##### Выделим признаки и основной столбец. Избавимся от столбца RowNumber, он лишь помешает"
   ]
  },
  {
   "cell_type": "code",
   "execution_count": 6,
   "metadata": {},
   "outputs": [],
   "source": [
    "features = df.drop(['RowNumber', 'Exited', 'CustomerId', 'Surname'], axis = 1)\n",
    "target = df['Exited']"
   ]
  },
  {
   "cell_type": "code",
   "execution_count": 7,
   "metadata": {},
   "outputs": [],
   "source": [
    "features = pd.get_dummies(features, drop_first = True)"
   ]
  },
  {
   "cell_type": "markdown",
   "metadata": {},
   "source": [
    "##### Разделим фрейм на обучающую, валидационную и тестовую выборки"
   ]
  },
  {
   "cell_type": "code",
   "execution_count": 8,
   "metadata": {},
   "outputs": [],
   "source": [
    "features_train, features_valid1, target_train, target_valid1 = train_test_split(features,\n",
    "                                                    target,\n",
    "                                                    train_size = 0.6,\n",
    "                                                    random_state = 12345, \n",
    "                                                    stratify = target)"
   ]
  },
  {
   "cell_type": "code",
   "execution_count": 9,
   "metadata": {},
   "outputs": [],
   "source": [
    "features_valid, features_test, target_valid, target_test = train_test_split(features_valid1,\n",
    "                                                    target_valid1,\n",
    "                                                    train_size = 0.5,\n",
    "                                                    random_state = 12345,\n",
    "                                                    stratify = target_valid1)"
   ]
  },
  {
   "cell_type": "code",
   "execution_count": 10,
   "metadata": {},
   "outputs": [
    {
     "name": "stdout",
     "output_type": "stream",
     "text": [
      "Размер тренировочной выборки: (6000, 11) (6000,)\n",
      "Размер валидационной выборки: (2000, 11) (2000,)\n",
      "Размер тестовой выборки: (2000, 11) (2000,)\n"
     ]
    }
   ],
   "source": [
    "print('Размер тренировочной выборки:', features_train.shape, target_train.shape)\n",
    "print('Размер валидационной выборки:', features_valid.shape, target_valid.shape)\n",
    "print('Размер тестовой выборки:', features_test.shape, target_test.shape)"
   ]
  },
  {
   "cell_type": "markdown",
   "metadata": {},
   "source": [
    "##### Используем кодирование для количественных признаков"
   ]
  },
  {
   "cell_type": "code",
   "execution_count": 11,
   "metadata": {},
   "outputs": [],
   "source": [
    "numeric = ['CreditScore', 'Age', 'Tenure', 'Balance', 'NumOfProducts', 'EstimatedSalary']"
   ]
  },
  {
   "cell_type": "code",
   "execution_count": 12,
   "metadata": {},
   "outputs": [
    {
     "data": {
      "text/plain": [
       "StandardScaler(copy=True, with_mean=True, with_std=True)"
      ]
     },
     "execution_count": 12,
     "metadata": {},
     "output_type": "execute_result"
    }
   ],
   "source": [
    "scaler = StandardScaler()\n",
    "scaler.fit(features_train[numeric])"
   ]
  },
  {
   "cell_type": "code",
   "execution_count": 13,
   "metadata": {},
   "outputs": [
    {
     "name": "stderr",
     "output_type": "stream",
     "text": [
      "/opt/conda/lib/python3.7/site-packages/ipykernel_launcher.py:1: SettingWithCopyWarning: \n",
      "A value is trying to be set on a copy of a slice from a DataFrame.\n",
      "Try using .loc[row_indexer,col_indexer] = value instead\n",
      "\n",
      "See the caveats in the documentation: http://pandas.pydata.org/pandas-docs/stable/user_guide/indexing.html#returning-a-view-versus-a-copy\n",
      "  \"\"\"Entry point for launching an IPython kernel.\n",
      "/opt/conda/lib/python3.7/site-packages/pandas/core/indexing.py:494: SettingWithCopyWarning: \n",
      "A value is trying to be set on a copy of a slice from a DataFrame.\n",
      "Try using .loc[row_indexer,col_indexer] = value instead\n",
      "\n",
      "See the caveats in the documentation: http://pandas.pydata.org/pandas-docs/stable/user_guide/indexing.html#returning-a-view-versus-a-copy\n",
      "  self.obj[item] = s\n",
      "/opt/conda/lib/python3.7/site-packages/ipykernel_launcher.py:2: SettingWithCopyWarning: \n",
      "A value is trying to be set on a copy of a slice from a DataFrame.\n",
      "Try using .loc[row_indexer,col_indexer] = value instead\n",
      "\n",
      "See the caveats in the documentation: http://pandas.pydata.org/pandas-docs/stable/user_guide/indexing.html#returning-a-view-versus-a-copy\n",
      "  \n",
      "/opt/conda/lib/python3.7/site-packages/pandas/core/indexing.py:494: SettingWithCopyWarning: \n",
      "A value is trying to be set on a copy of a slice from a DataFrame.\n",
      "Try using .loc[row_indexer,col_indexer] = value instead\n",
      "\n",
      "See the caveats in the documentation: http://pandas.pydata.org/pandas-docs/stable/user_guide/indexing.html#returning-a-view-versus-a-copy\n",
      "  self.obj[item] = s\n",
      "/opt/conda/lib/python3.7/site-packages/ipykernel_launcher.py:3: SettingWithCopyWarning: \n",
      "A value is trying to be set on a copy of a slice from a DataFrame.\n",
      "Try using .loc[row_indexer,col_indexer] = value instead\n",
      "\n",
      "See the caveats in the documentation: http://pandas.pydata.org/pandas-docs/stable/user_guide/indexing.html#returning-a-view-versus-a-copy\n",
      "  This is separate from the ipykernel package so we can avoid doing imports until\n",
      "/opt/conda/lib/python3.7/site-packages/pandas/core/indexing.py:494: SettingWithCopyWarning: \n",
      "A value is trying to be set on a copy of a slice from a DataFrame.\n",
      "Try using .loc[row_indexer,col_indexer] = value instead\n",
      "\n",
      "See the caveats in the documentation: http://pandas.pydata.org/pandas-docs/stable/user_guide/indexing.html#returning-a-view-versus-a-copy\n",
      "  self.obj[item] = s\n"
     ]
    }
   ],
   "source": [
    "features_train[numeric] = scaler.transform(features_train[numeric])\n",
    "features_valid[numeric] = scaler.transform(features_valid[numeric])\n",
    "features_test[numeric] = scaler.transform(features_test[numeric])"
   ]
  },
  {
   "cell_type": "markdown",
   "metadata": {},
   "source": [
    "# 2. Исследование задачи"
   ]
  },
  {
   "cell_type": "markdown",
   "metadata": {},
   "source": [
    "##### Рассмотрим accurscy_score трех моделей"
   ]
  },
  {
   "cell_type": "code",
   "execution_count": 14,
   "metadata": {},
   "outputs": [
    {
     "name": "stdout",
     "output_type": "stream",
     "text": [
      "0.793\n",
      "0.8685\n",
      "0.811\n"
     ]
    }
   ],
   "source": [
    "model_DTC = DecisionTreeClassifier(random_state = 12345)\n",
    "print(model_DTC.fit(features_train, target_train).score(features_valid, target_valid))\n",
    "\n",
    "model_RFC = RandomForestClassifier(random_state = 12345, n_estimators = 100)\n",
    "print(model_RFC.fit(features_train, target_train).score(features_valid, target_valid))\n",
    "\n",
    "model_LR = LogisticRegression(random_state = 12345, solver = 'liblinear')\n",
    "print(model_LR.fit(features_train, target_train).score(features_valid, target_valid))"
   ]
  },
  {
   "cell_type": "markdown",
   "metadata": {},
   "source": [
    "##### Самая высокая точность у модели случайного леса"
   ]
  },
  {
   "cell_type": "code",
   "execution_count": 15,
   "metadata": {},
   "outputs": [
    {
     "data": {
      "text/plain": [
       "0    0.796333\n",
       "1    0.203667\n",
       "Name: Exited, dtype: float64"
      ]
     },
     "execution_count": 15,
     "metadata": {},
     "output_type": "execute_result"
    }
   ],
   "source": [
    "target_train.value_counts(normalize = 1)"
   ]
  },
  {
   "cell_type": "code",
   "execution_count": 16,
   "metadata": {},
   "outputs": [
    {
     "data": {
      "text/plain": [
       "0    0.796\n",
       "1    0.204\n",
       "Name: Exited, dtype: float64"
      ]
     },
     "execution_count": 16,
     "metadata": {},
     "output_type": "execute_result"
    }
   ],
   "source": [
    "target_valid.value_counts(normalize = 1)"
   ]
  },
  {
   "cell_type": "markdown",
   "metadata": {},
   "source": [
    "##### Присутствует большой дисбаланс классов"
   ]
  },
  {
   "cell_type": "markdown",
   "metadata": {},
   "source": [
    "# 3. Борьба с дисбалансом"
   ]
  },
  {
   "cell_type": "markdown",
   "metadata": {},
   "source": [
    "##### Посмотрим на матрицы ошибок для наших моделей"
   ]
  },
  {
   "cell_type": "code",
   "execution_count": 17,
   "metadata": {},
   "outputs": [
    {
     "data": {
      "text/plain": [
       "array([[1379,  213],\n",
       "       [ 197,  211]])"
      ]
     },
     "execution_count": 17,
     "metadata": {},
     "output_type": "execute_result"
    }
   ],
   "source": [
    "model_DTC = DecisionTreeClassifier(random_state=123)\n",
    "model_DTC.fit(features_train, target_train)\n",
    "DTC_predictions = model_DTC.predict(features_valid)\n",
    "confusion_matrix(target_valid, DTC_predictions)"
   ]
  },
  {
   "cell_type": "markdown",
   "metadata": {},
   "source": [
    "##### Ложноположительных ответов, как и ложноотрицательных, столько же сколько и истинноположительныхю Посмотрим на другие метрики"
   ]
  },
  {
   "cell_type": "code",
   "execution_count": 18,
   "metadata": {},
   "outputs": [],
   "source": [
    "def scores(target_valid, predictions):\n",
    "    print(\"Полнота\" , recall_score(target_valid, predictions))\n",
    "    print(\"Точность\", precision_score(target_valid, predictions))\n",
    "    print(\"F1-мера\", f1_score(target_valid, predictions))\n",
    "    print(\"AUC-ROC\", roc_auc_score(target_valid, predictions))"
   ]
  },
  {
   "cell_type": "code",
   "execution_count": 19,
   "metadata": {},
   "outputs": [
    {
     "name": "stdout",
     "output_type": "stream",
     "text": [
      "Полнота 0.5171568627450981\n",
      "Точность 0.49764150943396224\n",
      "F1-мера 0.5072115384615384\n",
      "AUC-ROC 0.6916814464479257\n"
     ]
    }
   ],
   "source": [
    "scores(target_valid, DTC_predictions)"
   ]
  },
  {
   "cell_type": "markdown",
   "metadata": {},
   "source": [
    "##### Низкое качество по большинству метрик"
   ]
  },
  {
   "cell_type": "code",
   "execution_count": 20,
   "metadata": {},
   "outputs": [
    {
     "data": {
      "text/plain": [
       "array([[1529,   63],\n",
       "       [ 200,  208]])"
      ]
     },
     "execution_count": 20,
     "metadata": {},
     "output_type": "execute_result"
    }
   ],
   "source": [
    "model_RFC = RandomForestClassifier(random_state = 12345, n_estimators = 100)\n",
    "model_RFC.fit(features_train, target_train)\n",
    "RFC_predictions = model_RFC.predict(features_valid)\n",
    "confusion_matrix(target_valid, RFC_predictions)"
   ]
  },
  {
   "cell_type": "markdown",
   "metadata": {},
   "source": [
    "##### Ложных ответов меньше по сравнению с моделью дерева решений"
   ]
  },
  {
   "cell_type": "code",
   "execution_count": 21,
   "metadata": {},
   "outputs": [
    {
     "name": "stdout",
     "output_type": "stream",
     "text": [
      "Полнота 0.5098039215686274\n",
      "Точность 0.7675276752767528\n",
      "F1-мера 0.6126656848306332\n",
      "AUC-ROC 0.7351155286235097\n"
     ]
    }
   ],
   "source": [
    "scores(target_valid, RFC_predictions)"
   ]
  },
  {
   "cell_type": "markdown",
   "metadata": {},
   "source": [
    "##### Полнота немного хуже, но остальные параметры сильно выше"
   ]
  },
  {
   "cell_type": "code",
   "execution_count": 22,
   "metadata": {},
   "outputs": [
    {
     "data": {
      "text/plain": [
       "array([[1538,   54],\n",
       "       [ 324,   84]])"
      ]
     },
     "execution_count": 22,
     "metadata": {},
     "output_type": "execute_result"
    }
   ],
   "source": [
    "model_LR = LogisticRegression(solver = 'liblinear')\n",
    "model_LR.fit(features_train, target_train)\n",
    "LR_predictions = model_LR.predict(features_valid)\n",
    "confusion_matrix(target_valid, LR_predictions)"
   ]
  },
  {
   "cell_type": "markdown",
   "metadata": {},
   "source": [
    "##### Очень много ложноотрицательных ответов"
   ]
  },
  {
   "cell_type": "code",
   "execution_count": 23,
   "metadata": {},
   "outputs": [
    {
     "name": "stdout",
     "output_type": "stream",
     "text": [
      "Полнота 0.20588235294117646\n",
      "Точность 0.6086956521739131\n",
      "F1-мера 0.3076923076923077\n",
      "AUC-ROC 0.5859813774756133\n"
     ]
    }
   ],
   "source": [
    "scores(target_valid, LR_predictions)"
   ]
  },
  {
   "cell_type": "markdown",
   "metadata": {},
   "source": [
    "##### Очень маленькая полнота и F1-мера"
   ]
  },
  {
   "cell_type": "markdown",
   "metadata": {},
   "source": [
    "#### В изначальных данных присутствует сильный дисбаланс классов. Пока лучше всего себя показывает модель случайного леса. Чтобы найти подходящую модель для решения задачи, проведем ребаланс классов"
   ]
  },
  {
   "cell_type": "markdown",
   "metadata": {},
   "source": [
    "##### Пришло время избавиться от дисбаланса классов. Как мы выяснили, почти в 80% случаев ответ отрицательный, значит увеличим количество положительных в 4 раза"
   ]
  },
  {
   "cell_type": "code",
   "execution_count": 24,
   "metadata": {},
   "outputs": [],
   "source": [
    "def upsample(features, target, repeat):\n",
    "    features_zeros = features[target == 0]\n",
    "    features_ones = features[target == 1]\n",
    "    target_zeros = target[target == 0]\n",
    "    target_ones = target[target == 1]\n",
    "\n",
    "    features_upsampled = pd.concat([features_zeros] + [features_ones] * repeat)\n",
    "    target_upsampled = pd.concat([target_zeros] + [target_ones] * repeat)\n",
    "    \n",
    "    features_upsampled, target_upsampled = shuffle(\n",
    "        features_upsampled, target_upsampled, random_state=12345)\n",
    "    \n",
    "    return features_upsampled, target_upsampled"
   ]
  },
  {
   "cell_type": "code",
   "execution_count": 25,
   "metadata": {},
   "outputs": [],
   "source": [
    "features_train_upsample, target_train_upsample = upsample(features_train, target_train, 4)"
   ]
  },
  {
   "cell_type": "code",
   "execution_count": 26,
   "metadata": {},
   "outputs": [],
   "source": [
    "def scores(features_train, target_train, features_valid, target_valid):\n",
    "    model_DTC = DecisionTreeClassifier(random_state = 12345)\n",
    "    print(model_DTC.fit(features_train, target_train).score(features_valid, target_valid))\n",
    "    \n",
    "    model_RFC = RandomForestClassifier(random_state = 12345, n_estimators = 100)\n",
    "    print(model_RFC.fit(features_train, target_train).score(features_valid, target_valid))\n",
    "    \n",
    "    model_LR = LogisticRegression(random_state = 12345, solver = 'liblinear')\n",
    "    print(model_LR.fit(features_train, target_train).score(features_valid, target_valid))"
   ]
  },
  {
   "cell_type": "markdown",
   "metadata": {},
   "source": [
    "##### Посмотрим, как изменится точность на сбалансированной выборке. Что было, и что стало"
   ]
  },
  {
   "cell_type": "code",
   "execution_count": 27,
   "metadata": {},
   "outputs": [
    {
     "name": "stdout",
     "output_type": "stream",
     "text": [
      "0.793\n",
      "0.8685\n",
      "0.811\n"
     ]
    }
   ],
   "source": [
    "scores(features_train, target_train, features_valid, target_valid)"
   ]
  },
  {
   "cell_type": "code",
   "execution_count": 28,
   "metadata": {},
   "outputs": [
    {
     "name": "stdout",
     "output_type": "stream",
     "text": [
      "0.8065\n",
      "0.862\n",
      "0.7255\n"
     ]
    }
   ],
   "source": [
    "scores(features_train_upsample, target_train_upsample, features_valid, target_valid)"
   ]
  },
  {
   "cell_type": "markdown",
   "metadata": {},
   "source": [
    "##### Точность упала, но это можно объяснить изменением баланса. Посмотрим на другие метрики"
   ]
  },
  {
   "cell_type": "code",
   "execution_count": 29,
   "metadata": {},
   "outputs": [],
   "source": [
    "def score2(target_valid, predictions):\n",
    "    print('Полнота:' , recall_score(target_valid, predictions))\n",
    "    print('Точность:', precision_score(target_valid, predictions))\n",
    "    print('F1-мера:', f1_score(target_valid, predictions))\n",
    "    print('AUC-ROC:', roc_auc_score(target_valid, predictions))"
   ]
  },
  {
   "cell_type": "markdown",
   "metadata": {},
   "source": [
    "##### Модель дерева решений"
   ]
  },
  {
   "cell_type": "code",
   "execution_count": 30,
   "metadata": {},
   "outputs": [
    {
     "name": "stdout",
     "output_type": "stream",
     "text": [
      "Полнота: 0.5245098039215687\n",
      "Точность: 0.5257985257985258\n",
      "F1-мера: 0.5251533742331288\n",
      "AUC-ROC: 0.701639324071337\n"
     ]
    }
   ],
   "source": [
    "model_DTC_upsample = DecisionTreeClassifier(random_state = 12345)\n",
    "model_DTC_upsample.fit(features_train_upsample, target_train_upsample)\n",
    "predictions = model_DTC_upsample.predict(features_valid)\n",
    "score2(target_valid, predictions)"
   ]
  },
  {
   "cell_type": "markdown",
   "metadata": {},
   "source": [
    "##### Модель случайного леса"
   ]
  },
  {
   "cell_type": "code",
   "execution_count": 31,
   "metadata": {},
   "outputs": [
    {
     "name": "stdout",
     "output_type": "stream",
     "text": [
      "Полнота: 0.5906862745098039\n",
      "Точность: 0.6885714285714286\n",
      "F1-мера: 0.6358839050131926\n",
      "AUC-ROC: 0.7611094689131934\n"
     ]
    }
   ],
   "source": [
    "model_RFC_upsample = RandomForestClassifier(random_state = 12345, n_estimators = 100)\n",
    "model_RFC_upsample.fit(features_train_upsample, target_train_upsample)\n",
    "predictions = model_RFC_upsample.predict(features_valid)\n",
    "score2(target_valid, predictions)"
   ]
  },
  {
   "cell_type": "markdown",
   "metadata": {},
   "source": [
    "##### Логистическая регрессия"
   ]
  },
  {
   "cell_type": "code",
   "execution_count": 32,
   "metadata": {},
   "outputs": [
    {
     "name": "stdout",
     "output_type": "stream",
     "text": [
      "Полнота: 0.7426470588235294\n",
      "Точность: 0.40562248995983935\n",
      "F1-мера: 0.5246753246753246\n",
      "AUC-ROC: 0.7318762932308602\n"
     ]
    }
   ],
   "source": [
    "model_LR_upsample = LogisticRegression(random_state = 12345, solver = 'liblinear')\n",
    "model_LR_upsample.fit(features_train_upsample, target_train_upsample)\n",
    "predictions = model_LR_upsample.predict(features_valid)\n",
    "score2(target_valid, predictions)"
   ]
  },
  {
   "cell_type": "markdown",
   "metadata": {},
   "source": [
    "#### После ребаланса лучшие показатели у случайного леса. Найдем идеальные параметры для модели"
   ]
  },
  {
   "cell_type": "code",
   "execution_count": 33,
   "metadata": {},
   "outputs": [
    {
     "name": "stdout",
     "output_type": "stream",
     "text": [
      "Максимальный f1-score: 0.6530612244897959 число деревьев: 37 максимальная глубина 10\n"
     ]
    }
   ],
   "source": [
    "max = 0\n",
    "for i in range(1, 100):\n",
    "    for j in range(5, 15):\n",
    "        model = RandomForestClassifier(random_state = 12345, n_estimators = i, max_depth = j)\n",
    "        model.fit(features_train_upsample, target_train_upsample)\n",
    "        predictions = model.predict(features_valid)\n",
    "        if f1_score(target_valid, predictions) > max:\n",
    "            max = f1_score(target_valid, predictions)\n",
    "            n = i\n",
    "            m = j\n",
    "print('Максимальный f1-score:', max, 'число деревьев:', n, 'максимальная глубина', m)"
   ]
  },
  {
   "cell_type": "markdown",
   "metadata": {},
   "source": [
    "##### С помощью двух циклов нашли оптимальные параметры для модели случайного леса - 37 деревьев, максимальная глубина - 10"
   ]
  },
  {
   "cell_type": "markdown",
   "metadata": {},
   "source": [
    "##### Попробуем еще один метод борьбы с дисбалансом - уменьшение выборки"
   ]
  },
  {
   "cell_type": "code",
   "execution_count": 34,
   "metadata": {},
   "outputs": [],
   "source": [
    "def downsample(features, target, fraction):\n",
    "    features_zeros = features[target == 0]\n",
    "    target_zeros = target[target == 0]\n",
    "    features_ones = features[target == 1]\n",
    "    target_ones = target[target == 1]\n",
    "    \n",
    "    features_downsample = pd.concat([features_zeros.sample(frac = fraction, random_state = 12345)] + [features_ones])\n",
    "    target_downsample = pd.concat([target_zeros.sample(frac = fraction, random_state = 12345)] + [target_ones])\n",
    "    \n",
    "    features_downsample, target_downsample = shuffle(features_downsample, target_downsample, random_state = 12345)\n",
    "    return features_downsample, target_downsample"
   ]
  },
  {
   "cell_type": "code",
   "execution_count": 35,
   "metadata": {},
   "outputs": [],
   "source": [
    "features_train_downsample, target_train_downsample = downsample(features_train, target_train, 0.25)"
   ]
  },
  {
   "cell_type": "code",
   "execution_count": 36,
   "metadata": {},
   "outputs": [
    {
     "name": "stdout",
     "output_type": "stream",
     "text": [
      "Полнота: 0.7181372549019608\n",
      "Точность: 0.3737244897959184\n",
      "F1-мера: 0.49161073825503354\n",
      "AUC-ROC: 0.7048600847374126\n"
     ]
    }
   ],
   "source": [
    "model_DTC_downsample = DecisionTreeClassifier(random_state = 12345)\n",
    "model_DTC_downsample.fit(features_train_downsample, target_train_downsample)\n",
    "predictions = model_DTC_downsample.predict(features_valid)\n",
    "score2(target_valid, predictions)"
   ]
  },
  {
   "cell_type": "code",
   "execution_count": 37,
   "metadata": {},
   "outputs": [
    {
     "name": "stdout",
     "output_type": "stream",
     "text": [
      "Полнота: 0.7745098039215687\n",
      "Точность: 0.4876543209876543\n",
      "F1-мера: 0.5984848484848485\n",
      "AUC-ROC: 0.7829835451768647\n"
     ]
    }
   ],
   "source": [
    "model_RFC_downsample = RandomForestClassifier(n_estimators = 100, random_state = 12345)\n",
    "model_RFC_downsample.fit(features_train_downsample, target_train_downsample)\n",
    "predictions = model_RFC_downsample.predict(features_valid)\n",
    "score2(target_valid, predictions)"
   ]
  },
  {
   "cell_type": "code",
   "execution_count": 38,
   "metadata": {},
   "outputs": [
    {
     "name": "stdout",
     "output_type": "stream",
     "text": [
      "Полнота: 0.75\n",
      "Точность: 0.40691489361702127\n",
      "F1-мера: 0.5275862068965517\n",
      "AUC-ROC: 0.7349246231155779\n"
     ]
    }
   ],
   "source": [
    "model_LR_downsample = LogisticRegression(random_state = 12345, solver = 'liblinear')\n",
    "model_LR_downsample.fit(features_train_downsample, target_train_downsample)\n",
    "predictions = model_LR_downsample.predict(features_valid)\n",
    "score2(target_valid, predictions)"
   ]
  },
  {
   "cell_type": "markdown",
   "metadata": {},
   "source": [
    "##### При уменьшении выборки случайный лес остается фаворитом, так что вернемся к ранее подобранным параметрам"
   ]
  },
  {
   "cell_type": "markdown",
   "metadata": {},
   "source": [
    "# 4. Тестирование модели"
   ]
  },
  {
   "cell_type": "code",
   "execution_count": 39,
   "metadata": {},
   "outputs": [
    {
     "name": "stdout",
     "output_type": "stream",
     "text": [
      "Полнота: 0.6805896805896806\n",
      "Точность: 0.5420743639921722\n",
      "F1-мера: 0.6034858387799564\n",
      "AUC-ROC: 0.7668485126112244\n"
     ]
    }
   ],
   "source": [
    "model_RFC_upsample = RandomForestClassifier(max_depth = 10, n_estimators = 37, random_state = 12345)\n",
    "model_RFC_upsample.fit(features_train_upsample, target_train_upsample)\n",
    "predictions = model_RFC_upsample.predict(features_test)\n",
    "score2(target_test, predictions)"
   ]
  },
  {
   "cell_type": "markdown",
   "metadata": {},
   "source": [
    "#### Итог:\n",
    "##### В изначальных данных наблюдается сильный дисбаланс классов, примерно 4 к 1. После проведения ребаланса, лучше всего себя показала модель случайного леса с параметрами n_estimators = 37 и max_depth = 10.\n",
    "##### У AUC-ROC довольно высокий показатель, как и у полноты, а значит модель охватывает бОльшую часть клиентов. А вот показатель точности невысок - примерно 0.55, значит модель верно предсказывает чуть больше половины уходов клиентов.\n",
    "##### Модель лучше всего подойдет для того чтобы вычислить клиентов, которые могут уйти из банка в скором времени"
   ]
  }
 ],
 "metadata": {
  "ExecuteTimeLog": [
   {
    "duration": 1448,
    "start_time": "2021-06-21T10:49:54.902Z"
   },
   {
    "duration": 36,
    "start_time": "2021-06-21T10:49:56.353Z"
   },
   {
    "duration": 37,
    "start_time": "2021-06-21T10:49:56.392Z"
   },
   {
    "duration": 12,
    "start_time": "2021-06-21T10:49:56.432Z"
   },
   {
    "duration": 14,
    "start_time": "2021-06-21T10:49:56.447Z"
   },
   {
    "duration": 6,
    "start_time": "2021-06-21T10:49:56.463Z"
   },
   {
    "duration": 52,
    "start_time": "2021-06-21T10:49:56.472Z"
   },
   {
    "duration": 14,
    "start_time": "2021-06-21T10:49:56.529Z"
   },
   {
    "duration": 9,
    "start_time": "2021-06-21T10:49:56.546Z"
   },
   {
    "duration": 8,
    "start_time": "2021-06-21T10:49:56.557Z"
   },
   {
    "duration": 5,
    "start_time": "2021-06-21T10:49:56.609Z"
   },
   {
    "duration": 20,
    "start_time": "2021-06-21T10:49:56.616Z"
   },
   {
    "duration": 35,
    "start_time": "2021-06-21T10:49:56.638Z"
   },
   {
    "duration": 1142,
    "start_time": "2021-06-21T10:49:56.676Z"
   },
   {
    "duration": 101,
    "start_time": "2021-06-21T10:49:57.911Z"
   },
   {
    "duration": 8,
    "start_time": "2021-06-21T10:49:58.015Z"
   },
   {
    "duration": 49,
    "start_time": "2021-06-21T10:49:58.026Z"
   },
   {
    "duration": 33,
    "start_time": "2021-06-21T10:49:58.078Z"
   },
   {
    "duration": 25,
    "start_time": "2021-06-21T10:49:58.114Z"
   },
   {
    "duration": 1019,
    "start_time": "2021-06-21T10:49:58.142Z"
   },
   {
    "duration": 18,
    "start_time": "2021-06-21T10:49:59.164Z"
   },
   {
    "duration": 128,
    "start_time": "2021-06-21T10:49:59.185Z"
   },
   {
    "duration": 101,
    "start_time": "2021-06-21T10:49:59.320Z"
   },
   {
    "duration": 6,
    "start_time": "2021-06-21T10:49:59.424Z"
   },
   {
    "duration": 21,
    "start_time": "2021-06-21T10:49:59.432Z"
   },
   {
    "duration": 5,
    "start_time": "2021-06-21T10:49:59.456Z"
   },
   {
    "duration": 1146,
    "start_time": "2021-06-21T10:49:59.464Z"
   },
   {
    "duration": 1804,
    "start_time": "2021-06-21T10:50:00.614Z"
   },
   {
    "duration": 90,
    "start_time": "2021-06-21T10:50:02.420Z"
   },
   {
    "duration": 238,
    "start_time": "2021-06-21T10:50:02.514Z"
   },
   {
    "duration": 1522,
    "start_time": "2021-06-21T10:50:02.755Z"
   },
   {
    "duration": 228,
    "start_time": "2021-06-21T10:50:04.280Z"
   },
   {
    "duration": 614784,
    "start_time": "2021-06-21T10:50:04.511Z"
   },
   {
    "duration": 18,
    "start_time": "2021-06-21T11:00:19.297Z"
   },
   {
    "duration": 22,
    "start_time": "2021-06-21T11:00:19.318Z"
   },
   {
    "duration": 35,
    "start_time": "2021-06-21T11:00:19.343Z"
   },
   {
    "duration": 607,
    "start_time": "2021-06-21T11:00:19.381Z"
   },
   {
    "duration": 119,
    "start_time": "2021-06-21T11:00:19.991Z"
   },
   {
    "duration": 587,
    "start_time": "2021-06-21T11:00:20.114Z"
   }
  ],
  "kernelspec": {
   "display_name": "Python 3",
   "language": "python",
   "name": "python3"
  },
  "language_info": {
   "codemirror_mode": {
    "name": "ipython",
    "version": 3
   },
   "file_extension": ".py",
   "mimetype": "text/x-python",
   "name": "python",
   "nbconvert_exporter": "python",
   "pygments_lexer": "ipython3",
   "version": "3.8.5"
  },
  "toc": {
   "base_numbering": 1,
   "nav_menu": {},
   "number_sections": true,
   "sideBar": true,
   "skip_h1_title": true,
   "title_cell": "Table of Contents",
   "title_sidebar": "Contents",
   "toc_cell": false,
   "toc_position": {},
   "toc_section_display": true,
   "toc_window_display": false
  }
 },
 "nbformat": 4,
 "nbformat_minor": 2
}
