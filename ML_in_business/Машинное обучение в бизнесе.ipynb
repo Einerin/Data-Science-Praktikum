{
 "cells": [
  {
   "cell_type": "markdown",
   "metadata": {},
   "source": [
    "# Описание проекта"
   ]
  },
  {
   "cell_type": "markdown",
   "metadata": {},
   "source": [
    "Допустим, вы работаете в добывающей компании «ГлавРосГосНефть». Нужно решить, где бурить новую скважину.\n",
    "\n",
    "Вам предоставлены пробы нефти в трёх регионах: в каждом 10 000 месторождений, где измерили качество нефти и объём её запасов. Постройте модель машинного обучения, которая поможет определить регион, где добыча принесёт наибольшую прибыль. Проанализируйте возможную прибыль и риски техникой *Bootstrap.*\n",
    "\n",
    "Шаги для выбора локации:\n",
    "\n",
    "- В избранном регионе ищут месторождения, для каждого определяют значения признаков;\n",
    "- Строят модель и оценивают объём запасов;\n",
    "- Выбирают месторождения с самым высокими оценками значений. Количество месторождений зависит от бюджета компании и стоимости разработки одной скважины;\n",
    "- Прибыль равна суммарной прибыли отобранных месторождений."
   ]
  },
  {
   "cell_type": "markdown",
   "metadata": {},
   "source": [
    "##### В нашем распоряжении есть данные о нефтедобычи из трех регионов. Нам нужно оценить, какой из них будет самым перспективным"
   ]
  },
  {
   "cell_type": "code",
   "execution_count": 1,
   "metadata": {},
   "outputs": [],
   "source": [
    "import pandas as pd\n",
    "from sklearn.linear_model import LinearRegression\n",
    "from sklearn.model_selection import train_test_split\n",
    "from sklearn.metrics import mean_squared_error\n",
    "import numpy as np"
   ]
  },
  {
   "cell_type": "code",
   "execution_count": 2,
   "metadata": {},
   "outputs": [],
   "source": [
    "df1 = pd.read_csv('/datasets/geo_data_0.csv')\n",
    "df2 = pd.read_csv('/datasets/geo_data_1.csv')\n",
    "df3 = pd.read_csv('/datasets/geo_data_2.csv')"
   ]
  },
  {
   "cell_type": "markdown",
   "metadata": {},
   "source": [
    "##### Подготовим данные, разделив на обучающую и валидационную выборки"
   ]
  },
  {
   "cell_type": "code",
   "execution_count": 3,
   "metadata": {},
   "outputs": [],
   "source": [
    "features1 = df1.drop(['product', 'id'], axis = 1)\n",
    "target1 = df1['product']\n",
    "\n",
    "features2 = df2.drop(['product', 'id'], axis = 1)\n",
    "target2 = df2['product']\n",
    "\n",
    "features3 = df3.drop(['product', 'id'], axis = 1)\n",
    "target3 = df3['product']"
   ]
  },
  {
   "cell_type": "code",
   "execution_count": 4,
   "metadata": {},
   "outputs": [],
   "source": [
    "features_train1, features_valid1, target_train1, target_valid1 = train_test_split(features1, target1,\n",
    "                                                                                  test_size = 0.25, random_state = 12345)\n",
    "features_train2, features_valid2, target_train2, target_valid2 = train_test_split(features2, target2,\n",
    "                                                                                  test_size = 0.25, random_state = 12345)\n",
    "features_train3, features_valid3, target_train3, target_valid3 = train_test_split(features3, target3,\n",
    "                                                                                  test_size = 0.25, random_state = 12345)"
   ]
  },
  {
   "cell_type": "code",
   "execution_count": 5,
   "metadata": {},
   "outputs": [
    {
     "name": "stdout",
     "output_type": "stream",
     "text": [
      "(75000, 3) (25000, 3)\n",
      "(75000,) (25000,)\n"
     ]
    }
   ],
   "source": [
    "print(features_train1.shape, features_valid1.shape)\n",
    "print(target_train1.shape, target_valid1.shape)"
   ]
  },
  {
   "cell_type": "markdown",
   "metadata": {},
   "source": [
    "##### Размеры выборок в порядке. Приступим к работе с моделями"
   ]
  },
  {
   "cell_type": "markdown",
   "metadata": {},
   "source": [
    "##### Первый регион:"
   ]
  },
  {
   "cell_type": "code",
   "execution_count": 6,
   "metadata": {},
   "outputs": [
    {
     "name": "stdout",
     "output_type": "stream",
     "text": [
      "RMSE модели: 37.5794217150813\n",
      "Средний запас предсказанного сырья: 92.59256778438038\n"
     ]
    }
   ],
   "source": [
    "model1 = LinearRegression()\n",
    "model1.fit(features_train1, target_train1)\n",
    "predictions1 = model1.predict(features_valid1)\n",
    "print('RMSE модели:', mean_squared_error(target_valid1, predictions1) ** 0.5)\n",
    "print('Средний запас предсказанного сырья:', predictions1.mean())"
   ]
  },
  {
   "cell_type": "markdown",
   "metadata": {},
   "source": [
    "##### Второй регион:"
   ]
  },
  {
   "cell_type": "code",
   "execution_count": 7,
   "metadata": {},
   "outputs": [
    {
     "name": "stdout",
     "output_type": "stream",
     "text": [
      "RMSE модели: 0.893099286775616\n",
      "Средний запас предсказанного сырья: 68.728546895446\n"
     ]
    }
   ],
   "source": [
    "model2 = LinearRegression()\n",
    "model2.fit(features_train2, target_train2)\n",
    "predictions2 = model2.predict(features_valid2)\n",
    "print('RMSE модели:', mean_squared_error(target_valid2, predictions2) ** 0.5)\n",
    "print('Средний запас предсказанного сырья:', predictions2.mean())"
   ]
  },
  {
   "cell_type": "markdown",
   "metadata": {},
   "source": [
    "##### Третий регион:"
   ]
  },
  {
   "cell_type": "code",
   "execution_count": 8,
   "metadata": {},
   "outputs": [
    {
     "name": "stdout",
     "output_type": "stream",
     "text": [
      "RMSE модели: 40.02970873393434\n",
      "Средний запас предсказанного сырья: 94.96504596800489\n"
     ]
    }
   ],
   "source": [
    "model3 = LinearRegression()\n",
    "model3.fit(features_train3, target_train3)\n",
    "predictions3 = model3.predict(features_valid3)\n",
    "print('RMSE модели:', mean_squared_error(target_valid3, predictions3) ** 0.5)\n",
    "print('Средний запас предсказанного сырья:', predictions3.mean())"
   ]
  },
  {
   "cell_type": "markdown",
   "metadata": {},
   "source": [
    "##### Планируется 200 новых скважен при бюджете в 10.000млн рублей. Посчитаем минимальный объем новой скважины чтобы не уйти в минус"
   ]
  },
  {
   "cell_type": "code",
   "execution_count": 9,
   "metadata": {},
   "outputs": [],
   "source": [
    "#Бюджет на новые скважины в млн\n",
    "BUDGET = 10000\n",
    "#Доход от одного продукта в млн\n",
    "MONEY_PER_ONE = 0.45"
   ]
  },
  {
   "cell_type": "code",
   "execution_count": 10,
   "metadata": {},
   "outputs": [
    {
     "name": "stdout",
     "output_type": "stream",
     "text": [
      "111.11111111111111\n"
     ]
    }
   ],
   "source": [
    "print(10000 / 200 / 0.45)"
   ]
  },
  {
   "cell_type": "markdown",
   "metadata": {},
   "source": [
    "##### Итого, средний объем должен быть не меньше 111.Сравним со средними объемами в регионах"
   ]
  },
  {
   "cell_type": "code",
   "execution_count": 11,
   "metadata": {},
   "outputs": [
    {
     "name": "stdout",
     "output_type": "stream",
     "text": [
      "Средний объем продукта с каждой скважины в первом регионе: 92.50000000000001\n",
      "Средний объем продукта с каждой скважины во втором регионе: 68.82500000000002\n",
      "Средний объем продукта с каждой скважины в третьем регионе: 95.00000000000004\n"
     ]
    }
   ],
   "source": [
    "print('Средний объем продукта с каждой скважины в первом регионе:', df1['product'].mean())\n",
    "print('Средний объем продукта с каждой скважины во втором регионе:', df2['product'].mean())\n",
    "print('Средний объем продукта с каждой скважины в третьем регионе:', df3['product'].mean())"
   ]
  },
  {
   "cell_type": "markdown",
   "metadata": {},
   "source": [
    "##### Пока первый и третий регион смотрятся привлекательнее - средний объем скважин там существенно выше чем во втором, хотя и ниже чем необходимый"
   ]
  },
  {
   "cell_type": "markdown",
   "metadata": {},
   "source": [
    "##### Напишем фунцию, которая принимает предсказания модели, а возвращает прибыль от 200 крупнейших скважин(в млрд.рублей)"
   ]
  },
  {
   "cell_type": "code",
   "execution_count": 12,
   "metadata": {},
   "outputs": [],
   "source": [
    "def moneyhoney(target, predictions):\n",
    "    sorted_predict = predictions.sort_values(ascending = False)\n",
    "    sorted_sum = target[sorted_predict.index][:200]\n",
    "    result = (sorted_sum.sum() - BUDGET / MONEY_PER_ONE) * MONEY_PER_ONE\n",
    "    return result"
   ]
  },
  {
   "cell_type": "code",
   "execution_count": 13,
   "metadata": {},
   "outputs": [],
   "source": [
    "state = np.random.RandomState(12345)"
   ]
  },
  {
   "cell_type": "markdown",
   "metadata": {},
   "source": [
    "##### Используем метод subsample и найдем интересующие нас величины"
   ]
  },
  {
   "cell_type": "code",
   "execution_count": 15,
   "metadata": {},
   "outputs": [],
   "source": [
    "def samples(target, predictions):\n",
    "    values = []\n",
    "    for i in range(1000):\n",
    "        t_subsample = target.sample(n = 500, replace = True, random_state = state)\n",
    "        p_subsample = predictions[t_subsample.index]\n",
    "        values.append(moneyhoney(t_subsample, p_subsample))\n",
    "        \n",
    "    values = pd.Series(values)\n",
    "    risk = (values < 0).mean()\n",
    "    lower = values.quantile(0.025)\n",
    "    upper = values.quantile(0.975) \n",
    "    mean = values.mean()\n",
    "    \n",
    "    print(f'Средняя выручка: {mean:.2f} млн. руб')\n",
    "    print(f'Риск убытков: {risk:.1%}')\n",
    "    print(f'95% Доверительный интервал средней выручки: [{lower:.2f}; {upper:.2f}] млн. руб.')"
   ]
  },
  {
   "cell_type": "markdown",
   "metadata": {},
   "source": [
    "##### Обнулим индексы чтобы не было ошибок"
   ]
  },
  {
   "cell_type": "code",
   "execution_count": 16,
   "metadata": {},
   "outputs": [],
   "source": [
    "target_valid1 = target_valid1.reset_index(drop = True)\n",
    "target_valid2 = target_valid2.reset_index(drop = True)\n",
    "target_valid3 = target_valid3.reset_index(drop = True)\n",
    "predictions1 = pd.Series(predictions1)\n",
    "predictions2 = pd.Series(predictions2)\n",
    "predictions3 = pd.Series(predictions3)"
   ]
  },
  {
   "cell_type": "code",
   "execution_count": 17,
   "metadata": {},
   "outputs": [
    {
     "name": "stdout",
     "output_type": "stream",
     "text": [
      "Средняя выручка: 425.37 млн. руб\n",
      "Риск убытков: 6.0%\n",
      "95% Доверительный интервал средней выручки: [-102.09; 947.98] млн. руб.\n"
     ]
    }
   ],
   "source": [
    "samples(target_valid1, predictions1)"
   ]
  },
  {
   "cell_type": "code",
   "execution_count": 18,
   "metadata": {},
   "outputs": [
    {
     "name": "stdout",
     "output_type": "stream",
     "text": [
      "Средняя выручка: 518.24 млн. руб\n",
      "Риск убытков: 0.3%\n",
      "95% Доверительный интервал средней выручки: [128.12; 953.61] млн. руб.\n"
     ]
    }
   ],
   "source": [
    "samples(target_valid2, predictions2)"
   ]
  },
  {
   "cell_type": "code",
   "execution_count": 19,
   "metadata": {},
   "outputs": [
    {
     "name": "stdout",
     "output_type": "stream",
     "text": [
      "Средняя выручка: 419.92 млн. руб\n",
      "Риск убытков: 6.2%\n",
      "95% Доверительный интервал средней выручки: [-115.85; 989.63] млн. руб.\n"
     ]
    }
   ],
   "source": [
    "samples(target_valid3, predictions3)"
   ]
  },
  {
   "cell_type": "markdown",
   "metadata": {},
   "source": [
    "### Вывод:"
   ]
  },
  {
   "cell_type": "markdown",
   "metadata": {},
   "source": [
    "##### Из выбранных трех регионов второй устраивает больше всего - в нем одновременно ожидается наибольшая прибыль, и наименьшие риски"
   ]
  }
 ],
 "metadata": {
  "kernelspec": {
   "display_name": "Python 3",
   "language": "python",
   "name": "python3"
  },
  "language_info": {
   "codemirror_mode": {
    "name": "ipython",
    "version": 3
   },
   "file_extension": ".py",
   "mimetype": "text/x-python",
   "name": "python",
   "nbconvert_exporter": "python",
   "pygments_lexer": "ipython3",
   "version": "3.8.5"
  },
  "toc": {
   "base_numbering": 1,
   "nav_menu": {},
   "number_sections": true,
   "sideBar": true,
   "skip_h1_title": true,
   "title_cell": "Table of Contents",
   "title_sidebar": "Contents",
   "toc_cell": false,
   "toc_position": {},
   "toc_section_display": true,
   "toc_window_display": false
  }
 },
 "nbformat": 4,
 "nbformat_minor": 2
}
